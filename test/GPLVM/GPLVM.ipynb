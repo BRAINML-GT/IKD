{
 "cells": [
  {
   "cell_type": "code",
   "execution_count": 7,
   "id": "fc1ab72e",
   "metadata": {
    "ExecuteTime": {
     "end_time": "2022-08-26T21:27:23.226863Z",
     "start_time": "2022-08-26T21:27:21.581629Z"
    }
   },
   "outputs": [
    {
     "data": {
      "text/plain": [
       "<module 'ikd.datasets' from '/storage/scratch1/1/cli726/ikd/ikd/ikd/datasets.py'>"
      ]
     },
     "execution_count": 7,
     "metadata": {},
     "output_type": "execute_result"
    }
   ],
   "source": [
    "import numpy as np\n",
    "import matplotlib.pyplot as plt\n",
    "import pandas as pd\n",
    "import seaborn as sns\n",
    "from sklearn.decomposition import PCA\n",
    "# sns.set_theme()\n",
    "\n",
    "import imp\n",
    "\n",
    "from ikd import utils, core, evaluate, datasets\n",
    "imp.reload(utils)\n",
    "imp.reload(core)\n",
    "imp.reload(evaluate)\n",
    "imp.reload(datasets)"
   ]
  },
  {
   "cell_type": "code",
   "execution_count": 5,
   "id": "4487d73c",
   "metadata": {
    "ExecuteTime": {
     "end_time": "2022-08-26T21:26:43.517667Z",
     "start_time": "2022-08-26T21:26:43.515272Z"
    }
   },
   "outputs": [],
   "source": [
    "import ikd as ikd"
   ]
  },
  {
   "cell_type": "code",
   "execution_count": 6,
   "id": "504e8792",
   "metadata": {
    "ExecuteTime": {
     "end_time": "2022-08-26T21:26:43.705831Z",
     "start_time": "2022-08-26T21:26:43.702929Z"
    }
   },
   "outputs": [
    {
     "name": "stdout",
     "output_type": "stream",
     "text": [
      "Object `ikd.core.ikd` not found.\n"
     ]
    }
   ],
   "source": [
    "ikd.core.ikd?"
   ]
  },
  {
   "cell_type": "code",
   "execution_count": null,
   "id": "cc082ec2",
   "metadata": {},
   "outputs": [],
   "source": []
  }
 ],
 "metadata": {
  "kernelspec": {
   "display_name": "Python 3 (ipykernel)",
   "language": "python",
   "name": "python3"
  },
  "language_info": {
   "codemirror_mode": {
    "name": "ipython",
    "version": 3
   },
   "file_extension": ".py",
   "mimetype": "text/x-python",
   "name": "python",
   "nbconvert_exporter": "python",
   "pygments_lexer": "ipython3",
   "version": "3.9.12"
  }
 },
 "nbformat": 4,
 "nbformat_minor": 5
}

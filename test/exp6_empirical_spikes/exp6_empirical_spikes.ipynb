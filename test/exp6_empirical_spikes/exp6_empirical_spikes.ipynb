{
 "cells": [
  {
   "cell_type": "code",
   "execution_count": 8,
   "metadata": {},
   "outputs": [
    {
     "data": {
      "text/plain": [
       "<module 'ikd.epca' from 'd:\\\\GT\\\\Lab\\\\ikd NeurIPS 2022\\\\src\\\\ikd\\\\epca.py'>"
      ]
     },
     "execution_count": 8,
     "metadata": {},
     "output_type": "execute_result"
    }
   ],
   "source": [
    "import numpy as np\n",
    "import matplotlib.pyplot as plt\n",
    "import pandas as pd\n",
    "from scipy import io, signal\n",
    "from sklearn.metrics import r2_score\n",
    "from sklearn.decomposition import PCA, KernelPCA\n",
    "from sklearn.manifold import SpectralEmbedding\n",
    "from scipy.stats import ttest_1samp\n",
    "import seaborn as sns\n",
    "# sns.set_theme()\n",
    "import os\n",
    "\n",
    "import sys\n",
    "sys.path.append(sys.path[0][:-27])\n",
    "\n",
    "import imp\n",
    "\n",
    "from ikd import utils, core, evaluate, datasets, epca\n",
    "imp.reload(utils)\n",
    "imp.reload(core)\n",
    "imp.reload(evaluate)\n",
    "imp.reload(datasets)\n",
    "imp.reload(epca)"
   ]
  },
  {
   "cell_type": "code",
   "execution_count": 11,
   "metadata": {},
   "outputs": [],
   "source": [
    "if os.path.exists(\"exp6_py2mat.mat\") is False:\n",
    "    backward = 'sqrt'\n",
    "    exp6_py2mat = []\n",
    "    trial = 0\n",
    "    for mouse_name in [\"Mil\", \"Fiv\", \"Con\"]:\n",
    "        for day in range(1, 6):\n",
    "            for epoch in [2, 4]:\n",
    "                z_true, spikes = datasets.hc_6(mouse_name, day, epoch, show=False)\n",
    "                d_latent = z_true.shape[1]\n",
    "                spikes = spikes.astype(float)\n",
    "                spikes_dense = utils.backward(spikes, method=backward)\n",
    "\n",
    "                rng = np.random.default_rng(trial)\n",
    "                z_rand = rng.uniform(low=-0.5, high=0.5, size=(z_true.shape[0], 2))\n",
    "\n",
    "                z_pca = utils.median_filter(PCA(n_components=z_true.shape[1]).fit_transform(spikes_dense)) # pca\n",
    "                z_kernel_pca = KernelPCA(n_components=d_latent, kernel='sigmoid').fit_transform(spikes_dense)\n",
    "                z_le = SpectralEmbedding(n_components=d_latent).fit_transform(spikes_dense)\n",
    "                z_epca = utils.median_filter(epca.exp_fam_pca(spikes, \"poisson\", r=z_true.shape[1])[3]) # Liu's epca\n",
    "\n",
    "                cov_spikes = np.cov(spikes_dense)\n",
    "                variance_spikes = 2 * np.mean(cov_spikes)\n",
    "                cov_spikes_th = utils.filt_cov_samp(cov_spikes, variance_spikes)\n",
    "                cov_spikes_th = signal.convolve2d(cov_spikes_th, 1/121 * np.ones((11, 11)), boundary='symm', mode='same')\n",
    "                variance_spikes = 2 * np.mean(cov_spikes_th)\n",
    "                cov_spikes_th = utils.filt_cov_samp(cov_spikes_th, variance_spikes)\n",
    "                z_ikd = utils.median_filter(core.ikd(cov_spikes_th, z_true.shape[1], kernel=\"squared exponential\", variance=variance_spikes, length_scale=1)[0])\n",
    "\n",
    "                sol = epca.exp_fam_pca(spikes.T, \"poisson\", r=spikes.shape[1])\n",
    "                firing_rates_est = epca.wiener_filter(sol[0], spikes.T, \"poisson\").T\n",
    "                x_est = utils.backward(firing_rates_est, method=backward)\n",
    "                cov_est = np.cov(x_est)\n",
    "                variance_est = 2 * np.mean(cov_est)\n",
    "                cov_est_th = utils.filt_cov_samp(cov_est, variance_est)\n",
    "                cov_est_th = signal.convolve2d(cov_est_th, 1/121 * np.ones((11, 11)), boundary='symm', mode='same')\n",
    "                variance_est = 2 * np.mean(cov_est_th)\n",
    "                cov_est_th = utils.filt_cov_samp(cov_est_th, variance_est)\n",
    "                z_eikd = utils.median_filter(core.ikd(cov_est_th, z_true.shape[1], kernel=\"squared exponential\", variance=variance_spikes, length_scale=1)[0])\n",
    "\n",
    "                exp6_py2mat.append({\"mouse_name\": mouse_name, \"day\": day, \"epoch\": epoch , \"z_true\": z_true, \"spikes\": spikes, \"firing_rates_est\": firing_rates_est, \"z_pca\": z_pca, 'z_kernel_pca': z_kernel_pca, 'z_le': z_le, \"z_epca\": z_epca, \"z_ikd\": z_ikd, \"z_eikd\": z_eikd})\n",
    "                print(trial, mouse_name, day, epoch)\n",
    "                trial += 1\n",
    "    io.savemat(\"exp6_py2mat.mat\", {\"exp6_py2mat\": exp6_py2mat})"
   ]
  },
  {
   "cell_type": "code",
   "execution_count": 12,
   "metadata": {},
   "outputs": [],
   "source": [
    "exp6_py2mat = io.loadmat(\"exp6_py2mat.mat\", simplify_cells=True)['exp6_py2mat']\n",
    "n_trials = len(exp6_py2mat)\n",
    "result = np.zeros(n_trials)\n",
    "df_list = []\n",
    "trial = 0\n",
    "day_dict = {'Mil': [1, 2, 3, 4, 5],\n",
    "    'Fiv': [1, 2, 3, 4, 5],\n",
    "    'Con': [1, 2, 3, 4, 5]}\n",
    "method_list = ['pca', 'kernel_pca', 'le', 'epca', 'ikd', 'eikd', 'plds']\n",
    "for mouse_name in day_dict.keys():\n",
    "        for day in day_dict[mouse_name]:\n",
    "            for epoch in [2, 4]:\n",
    "                if trial in [8, 9, 17]:\n",
    "                    trial += 1\n",
    "                    continue\n",
    "                \n",
    "                exp6_mat2py = io.loadmat(f\"outputs/exp6_mat2py_{mouse_name}_{day}_{epoch}.mat\", simplify_cells=True)['result']\n",
    "\n",
    "                z_true = exp6_mat2py['z_true']\n",
    "                n_neurons = exp6_py2mat[trial]['spikes'].shape[1]\n",
    "                df_list.append(pd.DataFrame({\n",
    "                    'Initial $R^2$': list(map(lambda x: r2_score(z_true, utils.align(z_true, x)), [exp6_mat2py[i]['init'] for i in method_list])),\n",
    "                    'PGPLVM $R^2$': list(map(lambda x: r2_score(z_true, utils.align(z_true, x)), [exp6_mat2py[i]['pgplvm'] for i in method_list])),\n",
    "                    \"PLL\": [exp6_mat2py[i]['pll'] for i in method_list],\n",
    "                    \"method\": ['PCA', 'kernel PCA', 'Laplacian eigenmaps', '$e$PCA', 'IKD', '$e$IKD', 'PLDS'],\n",
    "                    \"mouse_name\": mouse_name,\n",
    "                    \"day\": day,\n",
    "                    \"epoch\": epoch,\n",
    "                    \"n_neurons\": n_neurons}))\n",
    "                trial += 1\n",
    "df = pd.concat(df_list, ignore_index=True)\n",
    "\n",
    "df2 = df[df.mouse_name != 'Fiv']"
   ]
  },
  {
   "cell_type": "code",
   "execution_count": 13,
   "metadata": {},
   "outputs": [
    {
     "name": "stdout",
     "output_type": "stream",
     "text": [
      "PCA & (-2.60, 0.01) & (-2.42, 0.01) & (-0.97, 0.17) & (-1.84, 0.04) \\\\\n",
      "kernel PCA & (-4.73, 0.00) & (-4.86, 0.00) & (-1.81, 0.04) & (-2.90, 0.00) \\\\\n",
      "Laplacian eigenmaps & (+0.20, 0.58) & (+0.07, 0.53) & (-0.97, 0.17) & (-1.77, 0.05) \\\\\n",
      "$e$PCA & (-3.28, 0.00) & (-3.21, 0.00) & (-1.31, 0.10) & (-1.76, 0.05) \\\\\n",
      "PLDS & (+2.12, 0.98) & (+1.86, 0.96) & (+0.94, 0.82) & (+0.55, 0.70) \\\\\n"
     ]
    }
   ],
   "source": [
    "for j in ['PCA', 'kernel PCA', 'Laplacian eigenmaps', '$e$PCA', 'PLDS']:\n",
    "    print(j, end='')\n",
    "    for metric in ['PGPLVM $R^2$', 'PLL']:\n",
    "        for i in ['IKD', '$e$IKD']:\n",
    "            sol = ttest_1samp(df2[df2.method == j][metric].values - df2[df2.method == i][metric].values, 0, alternative='less')\n",
    "            print(f' & ({sol[0]:+.2f}, {sol[1]:.2f})', end='')\n",
    "    print(' \\\\\\\\')"
   ]
  },
  {
   "cell_type": "code",
   "execution_count": 14,
   "metadata": {},
   "outputs": [
    {
     "name": "stderr",
     "output_type": "stream",
     "text": [
      "C:\\Users\\chengrui\\AppData\\Local\\Temp/ipykernel_5572/2287706942.py:22: UserWarning: This figure was using constrained_layout, but that is incompatible with subplots_adjust and/or tight_layout; disabling constrained_layout.\n",
      "  plt.tight_layout()\n"
     ]
    },
    {
     "data": {
      "image/png": "[encoded data removed]",
      "text/plain": [
       "<Figure size 720x144 with 3 Axes>"
      ]
     },
     "metadata": {
      "needs_background": "light"
     },
     "output_type": "display_data"
    }
   ],
   "source": [
    "plt.rcParams.update({'font.size': 11})\n",
    "ax = sns.barplot(x='mouse_name', y='Initial $R^2$', hue='method', data=df2, palette=['C0', 'C1', 'C2', 'C3', 'C5', 'C7', 'C4'])\n",
    "handles, labels = ax.get_legend_handles_labels()\n",
    "plt.close()\n",
    "\n",
    "fig, axs = plt.subplots(1, 3, figsize=(10, 2), constrained_layout=True)\n",
    "sns.barplot(x='method', y='Initial $R^2$', data=df2, ax=axs[0], palette=['C0', 'C1', 'C2', 'C3', 'C5', 'C7', 'C4']).set(xlabel=None, ylim=(0.18, 0.55))\n",
    "sns.barplot(x='method', y='PGPLVM $R^2$', data=df2, ax=axs[1], palette=['C0', 'C1', 'C2', 'C3', 'C5', 'C7', 'C4']).set(xlabel=None, ylim=(0.18, 0.55))\n",
    "sns.barplot(x='method', y='PLL', data=df2, ax=axs[2], palette=['C0', 'C1', 'C2', 'C3', 'C5', 'C7', 'C4']).set(xlabel=None, ylim=(-1.6, -0.6))\n",
    "axs[0].tick_params(axis='x', which='both', bottom=False, top=False, labelbottom=False)\n",
    "axs[1].tick_params(axis='x', which='both', bottom=False, top=False, labelbottom=False)\n",
    "axs[2].tick_params(axis='x', which='both', bottom=False, top=False, labelbottom=False)\n",
    "axs[0].spines['top'].set_visible(False)\n",
    "axs[0].spines['right'].set_visible(False)\n",
    "axs[1].spines['top'].set_visible(False)\n",
    "axs[1].spines['right'].set_visible(False)\n",
    "axs[2].spines['bottom'].set_visible(False)\n",
    "axs[2].spines['right'].set_visible(False)\n",
    "axs[0].set_ylabel('eigen-based $R^2$')\n",
    "axs[2].set_ylabel('PGPLVM PLL')\n",
    "fig.legend(handles, labels, loc='lower center', bbox_to_anchor=(0.5, -0.12), ncol=7)\n",
    "plt.tight_layout()\n",
    "fig.text(0.01, 0.87, '(a)')\n",
    "fig.text(0.34, 0.87, '(b)')\n",
    "fig.text(0.67, 0.87, '(c)')\n",
    "plt.savefig('empirical.pdf', bbox_inches='tight')"
   ]
  },
  {
   "cell_type": "code",
   "execution_count": null,
   "metadata": {},
   "outputs": [],
   "source": []
  }
 ],
 "metadata": {
  "interpreter": {
   "hash": "e4752f05f5837a1e0ac901e480eb3291d1275aa184c4810014ebc1a38eaa43f9"
  },
  "kernelspec": {
   "display_name": "Python 3.9.7 ('base')",
   "language": "python",
   "name": "python3"
  },
  "language_info": {
   "codemirror_mode": {
    "name": "ipython",
    "version": 3
   },
   "file_extension": ".py",
   "mimetype": "text/x-python",
   "name": "python",
   "nbconvert_exporter": "python",
   "pygments_lexer": "ipython3",
   "version": "3.9.7"
  },
  "orig_nbformat": 4
 },
 "nbformat": 4,
 "nbformat_minor": 2
}
